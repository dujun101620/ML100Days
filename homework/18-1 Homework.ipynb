{
 "cells": [
  {
   "cell_type": "code",
   "execution_count": null,
   "metadata": {},
   "outputs": [],
   "source": [
    "#在速度較慢的時候，可以先從哪邊開始檢查？\n",
    "#Ans:讀取的資料檔案是否為能較快速讀取的型態(如pkl檔)、是否使用內建函數、是否用向量化的資料處理方式(如isin)\n",
    "\n",
    "#資料過大時應採取什麼方式讓記憶體占用量下降？\n",
    "#Ans:整數型態 int 改成 uint、將浮點數型態 float64 改成 float32 "
   ]
  }
 ],
 "metadata": {
  "kernelspec": {
   "display_name": "Python 3",
   "language": "python",
   "name": "python3"
  },
  "language_info": {
   "codemirror_mode": {
    "name": "ipython",
    "version": 3
   },
   "file_extension": ".py",
   "mimetype": "text/x-python",
   "name": "python",
   "nbconvert_exporter": "python",
   "pygments_lexer": "ipython3",
   "version": "3.8.5"
  }
 },
 "nbformat": 4,
 "nbformat_minor": 4
}
